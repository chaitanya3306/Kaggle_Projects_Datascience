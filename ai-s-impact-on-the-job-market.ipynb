{
 "cells": [
  {
   "cell_type": "code",
   "execution_count": 1,
   "id": "0521387b",
   "metadata": {
    "_cell_guid": "b1076dfc-b9ad-4769-8c92-a6c4dae69d19",
    "_uuid": "8f2839f25d086af736a60e9eeb907d3b93b6e0e5",
    "execution": {
     "iopub.execute_input": "2025-08-08T12:32:10.220082Z",
     "iopub.status.busy": "2025-08-08T12:32:10.219704Z",
     "iopub.status.idle": "2025-08-08T12:32:12.171592Z",
     "shell.execute_reply": "2025-08-08T12:32:12.170564Z"
    },
    "papermill": {
     "duration": 1.964552,
     "end_time": "2025-08-08T12:32:12.173178",
     "exception": false,
     "start_time": "2025-08-08T12:32:10.208626",
     "status": "completed"
    },
    "tags": []
   },
   "outputs": [
    {
     "name": "stdout",
     "output_type": "stream",
     "text": [
      "/kaggle/input/ai-and-job-market/ai_job_market_insights.csv\n"
     ]
    }
   ],
   "source": [
    "# This Python 3 environment comes with many helpful analytics libraries installed\n",
    "# It is defined by the kaggle/python Docker image: https://github.com/kaggle/docker-python\n",
    "# For example, here's several helpful packages to load\n",
    "\n",
    "import numpy as np # linear algebra\n",
    "import pandas as pd # data processing, CSV file I/O (e.g. pd.read_csv)\n",
    "\n",
    "# Input data files are available in the read-only \"../input/\" directory\n",
    "# For example, running this (by clicking run or pressing Shift+Enter) will list all files under the input directory\n",
    "\n",
    "import os\n",
    "for dirname, _, filenames in os.walk('/kaggle/input'):\n",
    "    for filename in filenames:\n",
    "        print(os.path.join(dirname, filename))\n",
    "\n",
    "# You can write up to 20GB to the current directory (/kaggle/working/) that gets preserved as output when you create a version using \"Save & Run All\" \n",
    "# You can also write temporary files to /kaggle/temp/, but they won't be saved outside of the current session"
   ]
  },
  {
   "cell_type": "markdown",
   "id": "1a2ede16",
   "metadata": {
    "papermill": {
     "duration": 0.008056,
     "end_time": "2025-08-08T12:32:12.190794",
     "exception": false,
     "start_time": "2025-08-08T12:32:12.182738",
     "status": "completed"
    },
    "tags": []
   },
   "source": [
    "1.Problem Statement: How Ai manipulated the job makrket ?\n",
    "\n"
   ]
  },
  {
   "cell_type": "markdown",
   "id": "e83d5118",
   "metadata": {
    "papermill": {
     "duration": 0.009132,
     "end_time": "2025-08-08T12:32:12.208683",
     "exception": false,
     "start_time": "2025-08-08T12:32:12.199551",
     "status": "completed"
    },
    "tags": []
   },
   "source": [
    "****Objectives:****\n",
    "          \n",
    "          \n",
    "1. To find in which industry will get automated with Ai?\n",
    "2. which Skill can get you job best job?\n",
    "3. which industries adopt the Ai most?\n",
    "4. Find the which industry and job title will grow in next five years* \n",
    "\n",
    "          "
   ]
  },
  {
   "cell_type": "code",
   "execution_count": 2,
   "id": "6dcc45db",
   "metadata": {
    "execution": {
     "iopub.execute_input": "2025-08-08T12:32:12.226882Z",
     "iopub.status.busy": "2025-08-08T12:32:12.226020Z",
     "iopub.status.idle": "2025-08-08T12:32:14.237197Z",
     "shell.execute_reply": "2025-08-08T12:32:14.236313Z"
    },
    "papermill": {
     "duration": 2.02207,
     "end_time": "2025-08-08T12:32:14.238962",
     "exception": false,
     "start_time": "2025-08-08T12:32:12.216892",
     "status": "completed"
    },
    "tags": []
   },
   "outputs": [],
   "source": [
    "# first we have to import the libraries we needed:\n",
    "\n",
    "import pandas as pd\n",
    "import numpy as np\n",
    "import matplotlib.pyplot as plt\n",
    "import seaborn as sns\n",
    "import missingno as msno\n",
    "%matplotlib inline\n",
    "import warnings\n",
    "\n",
    "warnings.filterwarnings(\"ignore\", category=FutureWarning)\n",
    "\n",
    "plt.style.use('seaborn-v0_8-darkgrid')\n",
    "\n"
   ]
  },
  {
   "cell_type": "code",
   "execution_count": 3,
   "id": "f5222d3a",
   "metadata": {
    "execution": {
     "iopub.execute_input": "2025-08-08T12:32:14.256875Z",
     "iopub.status.busy": "2025-08-08T12:32:14.256459Z",
     "iopub.status.idle": "2025-08-08T12:32:14.299938Z",
     "shell.execute_reply": "2025-08-08T12:32:14.299167Z"
    },
    "papermill": {
     "duration": 0.05399,
     "end_time": "2025-08-08T12:32:14.301378",
     "exception": false,
     "start_time": "2025-08-08T12:32:14.247388",
     "status": "completed"
    },
    "tags": []
   },
   "outputs": [
    {
     "data": {
      "text/html": [
       "<div>\n",
       "<style scoped>\n",
       "    .dataframe tbody tr th:only-of-type {\n",
       "        vertical-align: middle;\n",
       "    }\n",
       "\n",
       "    .dataframe tbody tr th {\n",
       "        vertical-align: top;\n",
       "    }\n",
       "\n",
       "    .dataframe thead th {\n",
       "        text-align: right;\n",
       "    }\n",
       "</style>\n",
       "<table border=\"1\" class=\"dataframe\">\n",
       "  <thead>\n",
       "    <tr style=\"text-align: right;\">\n",
       "      <th></th>\n",
       "      <th>Job_Title</th>\n",
       "      <th>Industry</th>\n",
       "      <th>Company_Size</th>\n",
       "      <th>Location</th>\n",
       "      <th>AI_Adoption_Level</th>\n",
       "      <th>Automation_Risk</th>\n",
       "      <th>Required_Skills</th>\n",
       "      <th>Salary_USD</th>\n",
       "      <th>Remote_Friendly</th>\n",
       "      <th>Job_Growth_Projection</th>\n",
       "    </tr>\n",
       "  </thead>\n",
       "  <tbody>\n",
       "    <tr>\n",
       "      <th>0</th>\n",
       "      <td>Cybersecurity Analyst</td>\n",
       "      <td>Entertainment</td>\n",
       "      <td>Small</td>\n",
       "      <td>Dubai</td>\n",
       "      <td>Medium</td>\n",
       "      <td>High</td>\n",
       "      <td>UX/UI Design</td>\n",
       "      <td>111392.165243</td>\n",
       "      <td>Yes</td>\n",
       "      <td>Growth</td>\n",
       "    </tr>\n",
       "    <tr>\n",
       "      <th>1</th>\n",
       "      <td>Marketing Specialist</td>\n",
       "      <td>Technology</td>\n",
       "      <td>Large</td>\n",
       "      <td>Singapore</td>\n",
       "      <td>Medium</td>\n",
       "      <td>High</td>\n",
       "      <td>Marketing</td>\n",
       "      <td>93792.562466</td>\n",
       "      <td>No</td>\n",
       "      <td>Decline</td>\n",
       "    </tr>\n",
       "    <tr>\n",
       "      <th>2</th>\n",
       "      <td>AI Researcher</td>\n",
       "      <td>Technology</td>\n",
       "      <td>Large</td>\n",
       "      <td>Singapore</td>\n",
       "      <td>Medium</td>\n",
       "      <td>High</td>\n",
       "      <td>UX/UI Design</td>\n",
       "      <td>107170.263069</td>\n",
       "      <td>Yes</td>\n",
       "      <td>Growth</td>\n",
       "    </tr>\n",
       "    <tr>\n",
       "      <th>3</th>\n",
       "      <td>Sales Manager</td>\n",
       "      <td>Retail</td>\n",
       "      <td>Small</td>\n",
       "      <td>Berlin</td>\n",
       "      <td>Low</td>\n",
       "      <td>High</td>\n",
       "      <td>Project Management</td>\n",
       "      <td>93027.953758</td>\n",
       "      <td>No</td>\n",
       "      <td>Growth</td>\n",
       "    </tr>\n",
       "    <tr>\n",
       "      <th>4</th>\n",
       "      <td>Cybersecurity Analyst</td>\n",
       "      <td>Entertainment</td>\n",
       "      <td>Small</td>\n",
       "      <td>Tokyo</td>\n",
       "      <td>Low</td>\n",
       "      <td>Low</td>\n",
       "      <td>JavaScript</td>\n",
       "      <td>87752.922171</td>\n",
       "      <td>Yes</td>\n",
       "      <td>Decline</td>\n",
       "    </tr>\n",
       "  </tbody>\n",
       "</table>\n",
       "</div>"
      ],
      "text/plain": [
       "               Job_Title       Industry Company_Size   Location  \\\n",
       "0  Cybersecurity Analyst  Entertainment        Small      Dubai   \n",
       "1   Marketing Specialist     Technology        Large  Singapore   \n",
       "2          AI Researcher     Technology        Large  Singapore   \n",
       "3          Sales Manager         Retail        Small     Berlin   \n",
       "4  Cybersecurity Analyst  Entertainment        Small      Tokyo   \n",
       "\n",
       "  AI_Adoption_Level Automation_Risk     Required_Skills     Salary_USD  \\\n",
       "0            Medium            High        UX/UI Design  111392.165243   \n",
       "1            Medium            High           Marketing   93792.562466   \n",
       "2            Medium            High        UX/UI Design  107170.263069   \n",
       "3               Low            High  Project Management   93027.953758   \n",
       "4               Low             Low          JavaScript   87752.922171   \n",
       "\n",
       "  Remote_Friendly Job_Growth_Projection  \n",
       "0             Yes                Growth  \n",
       "1              No               Decline  \n",
       "2             Yes                Growth  \n",
       "3              No                Growth  \n",
       "4             Yes               Decline  "
      ]
     },
     "execution_count": 3,
     "metadata": {},
     "output_type": "execute_result"
    }
   ],
   "source": [
    "df=pd.read_csv('/kaggle/input/ai-and-job-market/ai_job_market_insights.csv')\n",
    "df.head()"
   ]
  },
  {
   "cell_type": "markdown",
   "id": "16b08967",
   "metadata": {
    "papermill": {
     "duration": 0.008431,
     "end_time": "2025-08-08T12:32:14.318636",
     "exception": false,
     "start_time": "2025-08-08T12:32:14.310205",
     "status": "completed"
    },
    "tags": []
   },
   "source": [
    "# ****1.Dataset Description****"
   ]
  },
  {
   "cell_type": "code",
   "execution_count": 4,
   "id": "7fa995f6",
   "metadata": {
    "execution": {
     "iopub.execute_input": "2025-08-08T12:32:14.337005Z",
     "iopub.status.busy": "2025-08-08T12:32:14.336671Z",
     "iopub.status.idle": "2025-08-08T12:32:14.362921Z",
     "shell.execute_reply": "2025-08-08T12:32:14.361956Z"
    },
    "papermill": {
     "duration": 0.037383,
     "end_time": "2025-08-08T12:32:14.364499",
     "exception": false,
     "start_time": "2025-08-08T12:32:14.327116",
     "status": "completed"
    },
    "tags": []
   },
   "outputs": [
    {
     "name": "stdout",
     "output_type": "stream",
     "text": [
      "<class 'pandas.core.frame.DataFrame'>\n",
      "RangeIndex: 500 entries, 0 to 499\n",
      "Data columns (total 10 columns):\n",
      " #   Column                 Non-Null Count  Dtype  \n",
      "---  ------                 --------------  -----  \n",
      " 0   Job_Title              500 non-null    object \n",
      " 1   Industry               500 non-null    object \n",
      " 2   Company_Size           500 non-null    object \n",
      " 3   Location               500 non-null    object \n",
      " 4   AI_Adoption_Level      500 non-null    object \n",
      " 5   Automation_Risk        500 non-null    object \n",
      " 6   Required_Skills        500 non-null    object \n",
      " 7   Salary_USD             500 non-null    float64\n",
      " 8   Remote_Friendly        500 non-null    object \n",
      " 9   Job_Growth_Projection  500 non-null    object \n",
      "dtypes: float64(1), object(9)\n",
      "memory usage: 39.2+ KB\n"
     ]
    }
   ],
   "source": [
    "df.info()"
   ]
  },
  {
   "cell_type": "code",
   "execution_count": 5,
   "id": "ba290336",
   "metadata": {
    "execution": {
     "iopub.execute_input": "2025-08-08T12:32:14.382876Z",
     "iopub.status.busy": "2025-08-08T12:32:14.382590Z",
     "iopub.status.idle": "2025-08-08T12:32:14.401774Z",
     "shell.execute_reply": "2025-08-08T12:32:14.400921Z"
    },
    "papermill": {
     "duration": 0.029924,
     "end_time": "2025-08-08T12:32:14.403082",
     "exception": false,
     "start_time": "2025-08-08T12:32:14.373158",
     "status": "completed"
    },
    "tags": []
   },
   "outputs": [
    {
     "data": {
      "text/html": [
       "<div>\n",
       "<style scoped>\n",
       "    .dataframe tbody tr th:only-of-type {\n",
       "        vertical-align: middle;\n",
       "    }\n",
       "\n",
       "    .dataframe tbody tr th {\n",
       "        vertical-align: top;\n",
       "    }\n",
       "\n",
       "    .dataframe thead th {\n",
       "        text-align: right;\n",
       "    }\n",
       "</style>\n",
       "<table border=\"1\" class=\"dataframe\">\n",
       "  <thead>\n",
       "    <tr style=\"text-align: right;\">\n",
       "      <th></th>\n",
       "      <th>Salary_USD</th>\n",
       "    </tr>\n",
       "  </thead>\n",
       "  <tbody>\n",
       "    <tr>\n",
       "      <th>count</th>\n",
       "      <td>500.000000</td>\n",
       "    </tr>\n",
       "    <tr>\n",
       "      <th>mean</th>\n",
       "      <td>91222.390974</td>\n",
       "    </tr>\n",
       "    <tr>\n",
       "      <th>std</th>\n",
       "      <td>20504.291453</td>\n",
       "    </tr>\n",
       "    <tr>\n",
       "      <th>min</th>\n",
       "      <td>31969.526346</td>\n",
       "    </tr>\n",
       "    <tr>\n",
       "      <th>25%</th>\n",
       "      <td>78511.514863</td>\n",
       "    </tr>\n",
       "    <tr>\n",
       "      <th>50%</th>\n",
       "      <td>91998.195286</td>\n",
       "    </tr>\n",
       "    <tr>\n",
       "      <th>75%</th>\n",
       "      <td>103971.282092</td>\n",
       "    </tr>\n",
       "    <tr>\n",
       "      <th>max</th>\n",
       "      <td>155209.821614</td>\n",
       "    </tr>\n",
       "  </tbody>\n",
       "</table>\n",
       "</div>"
      ],
      "text/plain": [
       "          Salary_USD\n",
       "count     500.000000\n",
       "mean    91222.390974\n",
       "std     20504.291453\n",
       "min     31969.526346\n",
       "25%     78511.514863\n",
       "50%     91998.195286\n",
       "75%    103971.282092\n",
       "max    155209.821614"
      ]
     },
     "execution_count": 5,
     "metadata": {},
     "output_type": "execute_result"
    }
   ],
   "source": [
    "df.describe()"
   ]
  },
  {
   "cell_type": "code",
   "execution_count": 6,
   "id": "f4f11a5a",
   "metadata": {
    "execution": {
     "iopub.execute_input": "2025-08-08T12:32:14.422489Z",
     "iopub.status.busy": "2025-08-08T12:32:14.421784Z",
     "iopub.status.idle": "2025-08-08T12:32:14.427463Z",
     "shell.execute_reply": "2025-08-08T12:32:14.426742Z"
    },
    "papermill": {
     "duration": 0.016492,
     "end_time": "2025-08-08T12:32:14.428868",
     "exception": false,
     "start_time": "2025-08-08T12:32:14.412376",
     "status": "completed"
    },
    "tags": []
   },
   "outputs": [
    {
     "data": {
      "text/plain": [
       "array(['Cybersecurity Analyst', 'Marketing Specialist', 'AI Researcher',\n",
       "       'Sales Manager', 'UX Designer', 'HR Manager', 'Product Manager',\n",
       "       'Software Engineer', 'Data Scientist', 'Operations Manager'],\n",
       "      dtype=object)"
      ]
     },
     "execution_count": 6,
     "metadata": {},
     "output_type": "execute_result"
    }
   ],
   "source": [
    "\n",
    "df['Job_Title'].unique()"
   ]
  },
  {
   "cell_type": "code",
   "execution_count": 7,
   "id": "096c58fb",
   "metadata": {
    "execution": {
     "iopub.execute_input": "2025-08-08T12:32:14.447244Z",
     "iopub.status.busy": "2025-08-08T12:32:14.446975Z",
     "iopub.status.idle": "2025-08-08T12:32:14.452448Z",
     "shell.execute_reply": "2025-08-08T12:32:14.451771Z"
    },
    "papermill": {
     "duration": 0.016067,
     "end_time": "2025-08-08T12:32:14.453679",
     "exception": false,
     "start_time": "2025-08-08T12:32:14.437612",
     "status": "completed"
    },
    "tags": []
   },
   "outputs": [
    {
     "data": {
      "text/plain": [
       "array(['Entertainment', 'Technology', 'Retail', 'Education', 'Finance',\n",
       "       'Transportation', 'Telecommunications', 'Manufacturing',\n",
       "       'Healthcare', 'Energy'], dtype=object)"
      ]
     },
     "execution_count": 7,
     "metadata": {},
     "output_type": "execute_result"
    }
   ],
   "source": [
    "df['Industry'].unique()"
   ]
  },
  {
   "cell_type": "markdown",
   "id": "43fb800a",
   "metadata": {
    "papermill": {
     "duration": 0.008437,
     "end_time": "2025-08-08T12:32:14.470916",
     "exception": false,
     "start_time": "2025-08-08T12:32:14.462479",
     "status": "completed"
    },
    "tags": []
   },
   "source": [
    "# ****2.Cleaning Dataset****"
   ]
  },
  {
   "cell_type": "code",
   "execution_count": 8,
   "id": "acf7ddf6",
   "metadata": {
    "execution": {
     "iopub.execute_input": "2025-08-08T12:32:14.489974Z",
     "iopub.status.busy": "2025-08-08T12:32:14.489696Z",
     "iopub.status.idle": "2025-08-08T12:32:14.496905Z",
     "shell.execute_reply": "2025-08-08T12:32:14.496043Z"
    },
    "papermill": {
     "duration": 0.018165,
     "end_time": "2025-08-08T12:32:14.498201",
     "exception": false,
     "start_time": "2025-08-08T12:32:14.480036",
     "status": "completed"
    },
    "tags": []
   },
   "outputs": [
    {
     "data": {
      "text/plain": [
       "Job_Title                0\n",
       "Industry                 0\n",
       "Company_Size             0\n",
       "Location                 0\n",
       "AI_Adoption_Level        0\n",
       "Automation_Risk          0\n",
       "Required_Skills          0\n",
       "Salary_USD               0\n",
       "Remote_Friendly          0\n",
       "Job_Growth_Projection    0\n",
       "dtype: int64"
      ]
     },
     "execution_count": 8,
     "metadata": {},
     "output_type": "execute_result"
    }
   ],
   "source": [
    "df.isnull().sum()"
   ]
  },
  {
   "cell_type": "markdown",
   "id": "cd881b1a",
   "metadata": {
    "papermill": {
     "duration": 0.008562,
     "end_time": "2025-08-08T12:32:14.515668",
     "exception": false,
     "start_time": "2025-08-08T12:32:14.507106",
     "status": "completed"
    },
    "tags": []
   },
   "source": [
    "**There is No Null value in this Dataset**"
   ]
  },
  {
   "cell_type": "markdown",
   "id": "56f951c2",
   "metadata": {
    "papermill": {
     "duration": 0.008429,
     "end_time": "2025-08-08T12:32:14.532706",
     "exception": false,
     "start_time": "2025-08-08T12:32:14.524277",
     "status": "completed"
    },
    "tags": []
   },
   "source": [
    " # 3.Univariate Analysis "
   ]
  },
  {
   "cell_type": "code",
   "execution_count": 9,
   "id": "8da0810b",
   "metadata": {
    "execution": {
     "iopub.execute_input": "2025-08-08T12:32:14.551146Z",
     "iopub.status.busy": "2025-08-08T12:32:14.550884Z",
     "iopub.status.idle": "2025-08-08T12:32:14.562919Z",
     "shell.execute_reply": "2025-08-08T12:32:14.561992Z"
    },
    "papermill": {
     "duration": 0.023075,
     "end_time": "2025-08-08T12:32:14.564361",
     "exception": false,
     "start_time": "2025-08-08T12:32:14.541286",
     "status": "completed"
    },
    "tags": []
   },
   "outputs": [
    {
     "data": {
      "text/html": [
       "<div>\n",
       "<style scoped>\n",
       "    .dataframe tbody tr th:only-of-type {\n",
       "        vertical-align: middle;\n",
       "    }\n",
       "\n",
       "    .dataframe tbody tr th {\n",
       "        vertical-align: top;\n",
       "    }\n",
       "\n",
       "    .dataframe thead th {\n",
       "        text-align: right;\n",
       "    }\n",
       "</style>\n",
       "<table border=\"1\" class=\"dataframe\">\n",
       "  <thead>\n",
       "    <tr style=\"text-align: right;\">\n",
       "      <th></th>\n",
       "      <th>Job_Title</th>\n",
       "      <th>Industry</th>\n",
       "      <th>Company_Size</th>\n",
       "      <th>Location</th>\n",
       "      <th>AI_Adoption_Level</th>\n",
       "      <th>Automation_Risk</th>\n",
       "      <th>Required_Skills</th>\n",
       "      <th>Salary_USD</th>\n",
       "      <th>Remote_Friendly</th>\n",
       "      <th>Job_Growth_Projection</th>\n",
       "    </tr>\n",
       "  </thead>\n",
       "  <tbody>\n",
       "    <tr>\n",
       "      <th>0</th>\n",
       "      <td>Cybersecurity Analyst</td>\n",
       "      <td>Entertainment</td>\n",
       "      <td>Small</td>\n",
       "      <td>Dubai</td>\n",
       "      <td>Medium</td>\n",
       "      <td>High</td>\n",
       "      <td>UX/UI Design</td>\n",
       "      <td>111392.165243</td>\n",
       "      <td>Yes</td>\n",
       "      <td>Growth</td>\n",
       "    </tr>\n",
       "    <tr>\n",
       "      <th>1</th>\n",
       "      <td>Marketing Specialist</td>\n",
       "      <td>Technology</td>\n",
       "      <td>Large</td>\n",
       "      <td>Singapore</td>\n",
       "      <td>Medium</td>\n",
       "      <td>High</td>\n",
       "      <td>Marketing</td>\n",
       "      <td>93792.562466</td>\n",
       "      <td>No</td>\n",
       "      <td>Decline</td>\n",
       "    </tr>\n",
       "    <tr>\n",
       "      <th>2</th>\n",
       "      <td>AI Researcher</td>\n",
       "      <td>Technology</td>\n",
       "      <td>Large</td>\n",
       "      <td>Singapore</td>\n",
       "      <td>Medium</td>\n",
       "      <td>High</td>\n",
       "      <td>UX/UI Design</td>\n",
       "      <td>107170.263069</td>\n",
       "      <td>Yes</td>\n",
       "      <td>Growth</td>\n",
       "    </tr>\n",
       "    <tr>\n",
       "      <th>3</th>\n",
       "      <td>Sales Manager</td>\n",
       "      <td>Retail</td>\n",
       "      <td>Small</td>\n",
       "      <td>Berlin</td>\n",
       "      <td>Low</td>\n",
       "      <td>High</td>\n",
       "      <td>Project Management</td>\n",
       "      <td>93027.953758</td>\n",
       "      <td>No</td>\n",
       "      <td>Growth</td>\n",
       "    </tr>\n",
       "    <tr>\n",
       "      <th>4</th>\n",
       "      <td>Cybersecurity Analyst</td>\n",
       "      <td>Entertainment</td>\n",
       "      <td>Small</td>\n",
       "      <td>Tokyo</td>\n",
       "      <td>Low</td>\n",
       "      <td>Low</td>\n",
       "      <td>JavaScript</td>\n",
       "      <td>87752.922171</td>\n",
       "      <td>Yes</td>\n",
       "      <td>Decline</td>\n",
       "    </tr>\n",
       "  </tbody>\n",
       "</table>\n",
       "</div>"
      ],
      "text/plain": [
       "               Job_Title       Industry Company_Size   Location  \\\n",
       "0  Cybersecurity Analyst  Entertainment        Small      Dubai   \n",
       "1   Marketing Specialist     Technology        Large  Singapore   \n",
       "2          AI Researcher     Technology        Large  Singapore   \n",
       "3          Sales Manager         Retail        Small     Berlin   \n",
       "4  Cybersecurity Analyst  Entertainment        Small      Tokyo   \n",
       "\n",
       "  AI_Adoption_Level Automation_Risk     Required_Skills     Salary_USD  \\\n",
       "0            Medium            High        UX/UI Design  111392.165243   \n",
       "1            Medium            High           Marketing   93792.562466   \n",
       "2            Medium            High        UX/UI Design  107170.263069   \n",
       "3               Low            High  Project Management   93027.953758   \n",
       "4               Low             Low          JavaScript   87752.922171   \n",
       "\n",
       "  Remote_Friendly Job_Growth_Projection  \n",
       "0             Yes                Growth  \n",
       "1              No               Decline  \n",
       "2             Yes                Growth  \n",
       "3              No                Growth  \n",
       "4             Yes               Decline  "
      ]
     },
     "execution_count": 9,
     "metadata": {},
     "output_type": "execute_result"
    }
   ],
   "source": [
    "df.head()"
   ]
  },
  {
   "cell_type": "code",
   "execution_count": 10,
   "id": "a6c607f9",
   "metadata": {
    "execution": {
     "iopub.execute_input": "2025-08-08T12:32:14.647941Z",
     "iopub.status.busy": "2025-08-08T12:32:14.647637Z",
     "iopub.status.idle": "2025-08-08T12:32:15.124448Z",
     "shell.execute_reply": "2025-08-08T12:32:15.123562Z"
    },
    "papermill": {
     "duration": 0.48863,
     "end_time": "2025-08-08T12:32:15.126006",
     "exception": false,
     "start_time": "2025-08-08T12:32:14.637376",
     "status": "completed"
    },
    "tags": []
   },
   "outputs": [
    {
     "data": {
      "image/png": "[encoded data removed]",
      "text/plain": [
       "<Figure size 1000x600 with 1 Axes>"
      ]
     },
     "metadata": {},
     "output_type": "display_data"
    }
   ],
   "source": [
    "# analysis on the basis of the job title value counts\n",
    "\n",
    "# preparing the data :\n",
    "value_counts=df.Job_Title.value_counts().reset_index()\n",
    "value_counts.columns=['Job_Title','Counts']\n",
    "value_counts=value_counts.sort_values(by='Counts',ascending=False)\n",
    "\n",
    "# plotting:\n",
    "plt.figure(figsize=(10,6))\n",
    "barplot=sns.barplot(\n",
    "\n",
    "    data=value_counts,\n",
    "    x='Job_Title',\n",
    "    y='Counts',\n",
    "    palette='viridis',\n",
    "    \n",
    ")\n",
    "for index, row in value_counts.iterrows():\n",
    "    barplot.text(index, row['Counts'] + 0.5, row['Counts'], color='black', ha=\"center\", fontsize=9)\n",
    "    \n",
    "plt.title('Count Of Each Job Title',fontsize=18,weight='bold')\n",
    "plt.xlabel('Job_title',fontsize=15)\n",
    "plt.ylabel('Counts',fontsize=15)\n",
    "plt.xticks(rotation=45,fontsize=10,ha='right')\n",
    "plt.yticks(fontsize=12)\n",
    "plt.grid( axis='both',linestyle='--', alpha=1)\n",
    "plt.tight_layout()\n",
    "plt.show()\n"
   ]
  },
  {
   "cell_type": "markdown",
   "id": "788d97be",
   "metadata": {
    "papermill": {
     "duration": 0.009827,
     "end_time": "2025-08-08T12:32:15.146277",
     "exception": false,
     "start_time": "2025-08-08T12:32:15.136450",
     "status": "completed"
    },
    "tags": []
   },
   "source": [
    "Insight:From this plot we can see that there is hieghest job available for the Data Scientist title"
   ]
  },
  {
   "cell_type": "code",
   "execution_count": 11,
   "id": "24179a1a",
   "metadata": {
    "execution": {
     "iopub.execute_input": "2025-08-08T12:32:15.167751Z",
     "iopub.status.busy": "2025-08-08T12:32:15.167124Z",
     "iopub.status.idle": "2025-08-08T12:32:15.433160Z",
     "shell.execute_reply": "2025-08-08T12:32:15.432235Z"
    },
    "papermill": {
     "duration": 0.278768,
     "end_time": "2025-08-08T12:32:15.435018",
     "exception": false,
     "start_time": "2025-08-08T12:32:15.156250",
     "status": "completed"
    },
    "tags": []
   },
   "outputs": [
    {
     "data": {
      "image/png": "[encoded data removed]",
      "text/plain": [
       "<Figure size 1000x600 with 1 Axes>"
      ]
     },
     "metadata": {},
     "output_type": "display_data"
    }
   ],
   "source": [
    "# analysis on the industry counts :\n",
    "# preparing the data:\n",
    "\n",
    "value_counts=df['Industry'].value_counts().reset_index()\n",
    "value_counts.columns=['Industry','Counts']\n",
    "value_counts=value_counts.sort_values(by='Counts',ascending=False)\n",
    "plt.figure(figsize=(10,6))\n",
    "barplot=sns.barplot(data=value_counts,\n",
    "            x='Industry',\n",
    "            y='Counts',\n",
    "            palette='mako',\n",
    "           )\n",
    "for i,row in value_counts.iterrows():\n",
    "    barplot.text(i,row['Counts'] + 0.5, row['Counts'], color='black', ha=\"center\", fontsize=9)\n",
    "    \n",
    "plt.title('count of Industry',fontsize=18,weight='bold')\n",
    "plt.xlabel('Industry',fontsize=15)\n",
    "plt.ylabel('Counts',fontsize=15)\n",
    "plt.xticks(rotation=45,fontsize=12,ha='right')\n",
    "plt.yticks(fontsize=12)\n",
    "plt.tight_layout()\n",
    "plt.show()\n"
   ]
  },
  {
   "cell_type": "markdown",
   "id": "6a9e45a6",
   "metadata": {
    "papermill": {
     "duration": 0.010698,
     "end_time": "2025-08-08T12:32:15.457246",
     "exception": false,
     "start_time": "2025-08-08T12:32:15.446548",
     "status": "completed"
    },
    "tags": []
   },
   "source": [
    "Insight: From this plot on the Industry count we can see that the jobs are higest in manufacturing,Eduacation and Technology sector and least in the Transportation and Healthcare sectors"
   ]
  },
  {
   "cell_type": "code",
   "execution_count": 12,
   "id": "cfda01c7",
   "metadata": {
    "execution": {
     "iopub.execute_input": "2025-08-08T12:32:15.480443Z",
     "iopub.status.busy": "2025-08-08T12:32:15.480009Z",
     "iopub.status.idle": "2025-08-08T12:32:15.750033Z",
     "shell.execute_reply": "2025-08-08T12:32:15.749122Z"
    },
    "papermill": {
     "duration": 0.283434,
     "end_time": "2025-08-08T12:32:15.751548",
     "exception": false,
     "start_time": "2025-08-08T12:32:15.468114",
     "status": "completed"
    },
    "tags": []
   },
   "outputs": [
    {
     "data": {
      "image/png": "[encoded data removed]",
      "text/plain": [
       "<Figure size 1200x700 with 1 Axes>"
      ]
     },
     "metadata": {},
     "output_type": "display_data"
    }
   ],
   "source": [
    "# analysis on which loacation has highest jobs :\n",
    "# preparing the data:\n",
    "location_counts=df['Location'].value_counts().reset_index()\n",
    "    \n",
    "location_counts.columns=['Location','Job_Counts']\n",
    "location_counts=location_counts.sort_values(by='Job_Counts',ascending=False)\n",
    "# plotting the data\n",
    "plt.figure(figsize=(12,7))\n",
    "barplot=sns.barplot(data=location_counts,\n",
    "            y='Location',\n",
    "            x='Job_Counts',\n",
    "            palette='crest'\n",
    "            )\n",
    "\n",
    "#To show the value counts of each bar  \n",
    "for i, row in location_counts.iterrows():\n",
    "    barplot.text(row['Job_Counts'] +1, i, row['Job_Counts'], color='black', va='center', fontsize=10)\n",
    "    \n",
    "plt.title('Locations of Jobs',fontsize=16,weight='bold')\n",
    "plt.xlabel('Job_counts',fontsize=15)\n",
    "plt.ylabel('Location',fontsize=15)\n",
    "plt.xticks(fontsize=12)\n",
    "plt.yticks(fontsize=12)\n",
    "plt.grid(axis='x',linestyle='--',alpha=0.5)\n",
    "plt.tight_layout()\n",
    "plt.show()\n"
   ]
  },
  {
   "cell_type": "markdown",
   "id": "9d9359ad",
   "metadata": {
    "papermill": {
     "duration": 0.011617,
     "end_time": "2025-08-08T12:32:15.775558",
     "exception": false,
     "start_time": "2025-08-08T12:32:15.763941",
     "status": "completed"
    },
    "tags": []
   },
   "source": [
    "Insight: Tech hub like San francisco and strong Economies like singapore,Dubai has highest jobs available"
   ]
  },
  {
   "cell_type": "code",
   "execution_count": 13,
   "id": "9a64c853",
   "metadata": {
    "execution": {
     "iopub.execute_input": "2025-08-08T12:32:15.801209Z",
     "iopub.status.busy": "2025-08-08T12:32:15.800256Z",
     "iopub.status.idle": "2025-08-08T12:32:15.991542Z",
     "shell.execute_reply": "2025-08-08T12:32:15.990641Z"
    },
    "papermill": {
     "duration": 0.205554,
     "end_time": "2025-08-08T12:32:15.993011",
     "exception": false,
     "start_time": "2025-08-08T12:32:15.787457",
     "status": "completed"
    },
    "tags": []
   },
   "outputs": [
    {
     "data": {
      "image/png": "[encoded data removed]",
      "text/plain": [
       "<Figure size 1200x700 with 1 Axes>"
      ]
     },
     "metadata": {},
     "output_type": "display_data"
    }
   ],
   "source": [
    "# Now we plot which skills are most job driven\n",
    "# preparing the data:\n",
    "\n",
    "skills_count=df[\"Required_Skills\"].value_counts().reset_index()\n",
    "skills_count.columns=['Skills','Count']\n",
    "# skills_count=skills_count.sort_values(by='Count',ascending=False)\n",
    "\n",
    "# plotting the skill counts:\n",
    "\n",
    "plt.figure(figsize=(12,7))\n",
    "color=sns.color_palette('bright')\n",
    "top_three=skills_count['Count'].nlargest(3).index\n",
    "explode=[0.1 if i in top_three else 0 for i in range (len(skills_count))]\n",
    "plt.pie(\n",
    "    skills_count['Count'],\n",
    "    labels=skills_count['Skills'],\n",
    "    colors=color[:len(skills_count)],\n",
    "    autopct='%.0f%%',\n",
    "    explode=explode\n",
    ")\n",
    "plt.title('Required Skills Distribution',fontsize=18,weight='bold')\n",
    "plt.show()\n",
    "\n"
   ]
  },
  {
   "cell_type": "markdown",
   "id": "9ea0323d",
   "metadata": {
    "papermill": {
     "duration": 0.012856,
     "end_time": "2025-08-08T12:32:16.019524",
     "exception": false,
     "start_time": "2025-08-08T12:32:16.006668",
     "status": "completed"
    },
    "tags": []
   },
   "source": [
    "Insight: From this plot we can see that Due to Ai skills like python,cybersecurity,and project management are Trending "
   ]
  },
  {
   "cell_type": "markdown",
   "id": "b18890d7",
   "metadata": {
    "papermill": {
     "duration": 0.013059,
     "end_time": "2025-08-08T12:32:16.046269",
     "exception": false,
     "start_time": "2025-08-08T12:32:16.033210",
     "status": "completed"
    },
    "tags": []
   },
   "source": [
    "# ****4. Bivariate Analysis****"
   ]
  },
  {
   "cell_type": "code",
   "execution_count": 14,
   "id": "0037d69e",
   "metadata": {
    "execution": {
     "iopub.execute_input": "2025-08-08T12:32:16.074666Z",
     "iopub.status.busy": "2025-08-08T12:32:16.074300Z",
     "iopub.status.idle": "2025-08-08T12:32:16.086716Z",
     "shell.execute_reply": "2025-08-08T12:32:16.085734Z"
    },
    "papermill": {
     "duration": 0.028538,
     "end_time": "2025-08-08T12:32:16.088188",
     "exception": false,
     "start_time": "2025-08-08T12:32:16.059650",
     "status": "completed"
    },
    "tags": []
   },
   "outputs": [
    {
     "data": {
      "text/html": [
       "<div>\n",
       "<style scoped>\n",
       "    .dataframe tbody tr th:only-of-type {\n",
       "        vertical-align: middle;\n",
       "    }\n",
       "\n",
       "    .dataframe tbody tr th {\n",
       "        vertical-align: top;\n",
       "    }\n",
       "\n",
       "    .dataframe thead th {\n",
       "        text-align: right;\n",
       "    }\n",
       "</style>\n",
       "<table border=\"1\" class=\"dataframe\">\n",
       "  <thead>\n",
       "    <tr style=\"text-align: right;\">\n",
       "      <th></th>\n",
       "      <th>Job_Title</th>\n",
       "      <th>Industry</th>\n",
       "      <th>Company_Size</th>\n",
       "      <th>Location</th>\n",
       "      <th>AI_Adoption_Level</th>\n",
       "      <th>Automation_Risk</th>\n",
       "      <th>Required_Skills</th>\n",
       "      <th>Salary_USD</th>\n",
       "      <th>Remote_Friendly</th>\n",
       "      <th>Job_Growth_Projection</th>\n",
       "    </tr>\n",
       "  </thead>\n",
       "  <tbody>\n",
       "    <tr>\n",
       "      <th>0</th>\n",
       "      <td>Cybersecurity Analyst</td>\n",
       "      <td>Entertainment</td>\n",
       "      <td>Small</td>\n",
       "      <td>Dubai</td>\n",
       "      <td>Medium</td>\n",
       "      <td>High</td>\n",
       "      <td>UX/UI Design</td>\n",
       "      <td>111392.165243</td>\n",
       "      <td>Yes</td>\n",
       "      <td>Growth</td>\n",
       "    </tr>\n",
       "    <tr>\n",
       "      <th>1</th>\n",
       "      <td>Marketing Specialist</td>\n",
       "      <td>Technology</td>\n",
       "      <td>Large</td>\n",
       "      <td>Singapore</td>\n",
       "      <td>Medium</td>\n",
       "      <td>High</td>\n",
       "      <td>Marketing</td>\n",
       "      <td>93792.562466</td>\n",
       "      <td>No</td>\n",
       "      <td>Decline</td>\n",
       "    </tr>\n",
       "    <tr>\n",
       "      <th>2</th>\n",
       "      <td>AI Researcher</td>\n",
       "      <td>Technology</td>\n",
       "      <td>Large</td>\n",
       "      <td>Singapore</td>\n",
       "      <td>Medium</td>\n",
       "      <td>High</td>\n",
       "      <td>UX/UI Design</td>\n",
       "      <td>107170.263069</td>\n",
       "      <td>Yes</td>\n",
       "      <td>Growth</td>\n",
       "    </tr>\n",
       "    <tr>\n",
       "      <th>3</th>\n",
       "      <td>Sales Manager</td>\n",
       "      <td>Retail</td>\n",
       "      <td>Small</td>\n",
       "      <td>Berlin</td>\n",
       "      <td>Low</td>\n",
       "      <td>High</td>\n",
       "      <td>Project Management</td>\n",
       "      <td>93027.953758</td>\n",
       "      <td>No</td>\n",
       "      <td>Growth</td>\n",
       "    </tr>\n",
       "    <tr>\n",
       "      <th>4</th>\n",
       "      <td>Cybersecurity Analyst</td>\n",
       "      <td>Entertainment</td>\n",
       "      <td>Small</td>\n",
       "      <td>Tokyo</td>\n",
       "      <td>Low</td>\n",
       "      <td>Low</td>\n",
       "      <td>JavaScript</td>\n",
       "      <td>87752.922171</td>\n",
       "      <td>Yes</td>\n",
       "      <td>Decline</td>\n",
       "    </tr>\n",
       "  </tbody>\n",
       "</table>\n",
       "</div>"
      ],
      "text/plain": [
       "               Job_Title       Industry Company_Size   Location  \\\n",
       "0  Cybersecurity Analyst  Entertainment        Small      Dubai   \n",
       "1   Marketing Specialist     Technology        Large  Singapore   \n",
       "2          AI Researcher     Technology        Large  Singapore   \n",
       "3          Sales Manager         Retail        Small     Berlin   \n",
       "4  Cybersecurity Analyst  Entertainment        Small      Tokyo   \n",
       "\n",
       "  AI_Adoption_Level Automation_Risk     Required_Skills     Salary_USD  \\\n",
       "0            Medium            High        UX/UI Design  111392.165243   \n",
       "1            Medium            High           Marketing   93792.562466   \n",
       "2            Medium            High        UX/UI Design  107170.263069   \n",
       "3               Low            High  Project Management   93027.953758   \n",
       "4               Low             Low          JavaScript   87752.922171   \n",
       "\n",
       "  Remote_Friendly Job_Growth_Projection  \n",
       "0             Yes                Growth  \n",
       "1              No               Decline  \n",
       "2             Yes                Growth  \n",
       "3              No                Growth  \n",
       "4             Yes               Decline  "
      ]
     },
     "execution_count": 14,
     "metadata": {},
     "output_type": "execute_result"
    }
   ],
   "source": [
    "df.head()"
   ]
  },
  {
   "cell_type": "code",
   "execution_count": 15,
   "id": "8e75e577",
   "metadata": {
    "execution": {
     "iopub.execute_input": "2025-08-08T12:32:16.116528Z",
     "iopub.status.busy": "2025-08-08T12:32:16.116068Z",
     "iopub.status.idle": "2025-08-08T12:32:16.423713Z",
     "shell.execute_reply": "2025-08-08T12:32:16.422857Z"
    },
    "papermill": {
     "duration": 0.323764,
     "end_time": "2025-08-08T12:32:16.425529",
     "exception": false,
     "start_time": "2025-08-08T12:32:16.101765",
     "status": "completed"
    },
    "tags": []
   },
   "outputs": [
    {
     "data": {
      "image/png": "[encoded data removed]",
      "text/plain": [
       "<Figure size 1200x700 with 1 Axes>"
      ]
     },
     "metadata": {},
     "output_type": "display_data"
    }
   ],
   "source": [
    "\n",
    "plt.figure(figsize=(12,7))\n",
    "order=df.groupby('Location')['Salary_USD'].median().sort_values(ascending=False).index\n",
    "sns.boxplot(data=df,x='Location',y='Salary_USD',palette='viridis',order=order)\n",
    "plt.title('Locations of Jobs',fontsize=16,weight='bold')\n",
    "plt.xlabel('Locations',fontsize=15)\n",
    "plt.ylabel('salary(USD)',fontsize=15)\n",
    "plt.xticks(fontsize=12)\n",
    "plt.yticks(fontsize=12)\n",
    "plt.grid(axis='x',linestyle='--',alpha=0.5)\n",
    "plt.tight_layout()\n",
    "plt.show()\n"
   ]
  },
  {
   "cell_type": "markdown",
   "id": "08a107ac",
   "metadata": {
    "papermill": {
     "duration": 0.014457,
     "end_time": "2025-08-08T12:32:16.454241",
     "exception": false,
     "start_time": "2025-08-08T12:32:16.439784",
     "status": "completed"
    },
    "tags": []
   },
   "source": [
    "Insight:Among all locations, Singapore shows one of the highest median salaries in the dataset"
   ]
  },
  {
   "cell_type": "code",
   "execution_count": null,
   "id": "c93e1741",
   "metadata": {
    "papermill": {
     "duration": 0.014158,
     "end_time": "2025-08-08T12:32:16.482487",
     "exception": false,
     "start_time": "2025-08-08T12:32:16.468329",
     "status": "completed"
    },
    "tags": []
   },
   "outputs": [],
   "source": []
  },
  {
   "cell_type": "code",
   "execution_count": null,
   "id": "2f2dc069",
   "metadata": {
    "papermill": {
     "duration": 0.013463,
     "end_time": "2025-08-08T12:32:16.510216",
     "exception": false,
     "start_time": "2025-08-08T12:32:16.496753",
     "status": "completed"
    },
    "tags": []
   },
   "outputs": [],
   "source": []
  },
  {
   "cell_type": "code",
   "execution_count": null,
   "id": "d2206c97",
   "metadata": {
    "papermill": {
     "duration": 0.01367,
     "end_time": "2025-08-08T12:32:16.537807",
     "exception": false,
     "start_time": "2025-08-08T12:32:16.524137",
     "status": "completed"
    },
    "tags": []
   },
   "outputs": [],
   "source": []
  },
  {
   "cell_type": "code",
   "execution_count": null,
   "id": "9aa9add8",
   "metadata": {
    "papermill": {
     "duration": 0.013494,
     "end_time": "2025-08-08T12:32:16.565181",
     "exception": false,
     "start_time": "2025-08-08T12:32:16.551687",
     "status": "completed"
    },
    "tags": []
   },
   "outputs": [],
   "source": []
  },
  {
   "cell_type": "code",
   "execution_count": null,
   "id": "3698b496",
   "metadata": {
    "papermill": {
     "duration": 0.013784,
     "end_time": "2025-08-08T12:32:16.592897",
     "exception": false,
     "start_time": "2025-08-08T12:32:16.579113",
     "status": "completed"
    },
    "tags": []
   },
   "outputs": [],
   "source": []
  },
  {
   "cell_type": "code",
   "execution_count": null,
   "id": "cb2e3de3",
   "metadata": {
    "papermill": {
     "duration": 0.013615,
     "end_time": "2025-08-08T12:32:16.620694",
     "exception": false,
     "start_time": "2025-08-08T12:32:16.607079",
     "status": "completed"
    },
    "tags": []
   },
   "outputs": [],
   "source": []
  },
  {
   "cell_type": "code",
   "execution_count": null,
   "id": "f78d1108",
   "metadata": {
    "papermill": {
     "duration": 0.013551,
     "end_time": "2025-08-08T12:32:16.647930",
     "exception": false,
     "start_time": "2025-08-08T12:32:16.634379",
     "status": "completed"
    },
    "tags": []
   },
   "outputs": [],
   "source": []
  },
  {
   "cell_type": "code",
   "execution_count": null,
   "id": "c255c5a4",
   "metadata": {
    "papermill": {
     "duration": 0.013718,
     "end_time": "2025-08-08T12:32:16.675350",
     "exception": false,
     "start_time": "2025-08-08T12:32:16.661632",
     "status": "completed"
    },
    "tags": []
   },
   "outputs": [],
   "source": []
  },
  {
   "cell_type": "code",
   "execution_count": null,
   "id": "77c49e64",
   "metadata": {
    "papermill": {
     "duration": 0.01379,
     "end_time": "2025-08-08T12:32:16.703096",
     "exception": false,
     "start_time": "2025-08-08T12:32:16.689306",
     "status": "completed"
    },
    "tags": []
   },
   "outputs": [],
   "source": []
  },
  {
   "cell_type": "code",
   "execution_count": null,
   "id": "7804837b",
   "metadata": {
    "papermill": {
     "duration": 0.013922,
     "end_time": "2025-08-08T12:32:16.730822",
     "exception": false,
     "start_time": "2025-08-08T12:32:16.716900",
     "status": "completed"
    },
    "tags": []
   },
   "outputs": [],
   "source": []
  },
  {
   "cell_type": "code",
   "execution_count": null,
   "id": "7aaa6159",
   "metadata": {
    "papermill": {
     "duration": 0.013856,
     "end_time": "2025-08-08T12:32:16.760919",
     "exception": false,
     "start_time": "2025-08-08T12:32:16.747063",
     "status": "completed"
    },
    "tags": []
   },
   "outputs": [],
   "source": []
  },
  {
   "cell_type": "code",
   "execution_count": null,
   "id": "a543f36f",
   "metadata": {
    "papermill": {
     "duration": 0.01391,
     "end_time": "2025-08-08T12:32:16.789392",
     "exception": false,
     "start_time": "2025-08-08T12:32:16.775482",
     "status": "completed"
    },
    "tags": []
   },
   "outputs": [],
   "source": []
  },
  {
   "cell_type": "code",
   "execution_count": null,
   "id": "9e4901c1",
   "metadata": {
    "papermill": {
     "duration": 0.013948,
     "end_time": "2025-08-08T12:32:16.817270",
     "exception": false,
     "start_time": "2025-08-08T12:32:16.803322",
     "status": "completed"
    },
    "tags": []
   },
   "outputs": [],
   "source": []
  },
  {
   "cell_type": "code",
   "execution_count": null,
   "id": "9d00a98f",
   "metadata": {
    "papermill": {
     "duration": 0.014441,
     "end_time": "2025-08-08T12:32:16.845535",
     "exception": false,
     "start_time": "2025-08-08T12:32:16.831094",
     "status": "completed"
    },
    "tags": []
   },
   "outputs": [],
   "source": []
  },
  {
   "cell_type": "code",
   "execution_count": null,
   "id": "51ea6690",
   "metadata": {
    "papermill": {
     "duration": 0.014261,
     "end_time": "2025-08-08T12:32:16.874609",
     "exception": false,
     "start_time": "2025-08-08T12:32:16.860348",
     "status": "completed"
    },
    "tags": []
   },
   "outputs": [],
   "source": []
  },
  {
   "cell_type": "code",
   "execution_count": null,
   "id": "88eb3406",
   "metadata": {
    "papermill": {
     "duration": 0.013889,
     "end_time": "2025-08-08T12:32:16.902694",
     "exception": false,
     "start_time": "2025-08-08T12:32:16.888805",
     "status": "completed"
    },
    "tags": []
   },
   "outputs": [],
   "source": []
  },
  {
   "cell_type": "code",
   "execution_count": null,
   "id": "29c1bef0",
   "metadata": {
    "papermill": {
     "duration": 0.013786,
     "end_time": "2025-08-08T12:32:16.930668",
     "exception": false,
     "start_time": "2025-08-08T12:32:16.916882",
     "status": "completed"
    },
    "tags": []
   },
   "outputs": [],
   "source": []
  },
  {
   "cell_type": "code",
   "execution_count": null,
   "id": "687f77c4",
   "metadata": {
    "papermill": {
     "duration": 0.013524,
     "end_time": "2025-08-08T12:32:16.957878",
     "exception": false,
     "start_time": "2025-08-08T12:32:16.944354",
     "status": "completed"
    },
    "tags": []
   },
   "outputs": [],
   "source": []
  },
  {
   "cell_type": "code",
   "execution_count": null,
   "id": "b9ed2d3c",
   "metadata": {
    "papermill": {
     "duration": 0.013547,
     "end_time": "2025-08-08T12:32:16.985319",
     "exception": false,
     "start_time": "2025-08-08T12:32:16.971772",
     "status": "completed"
    },
    "tags": []
   },
   "outputs": [],
   "source": []
  },
  {
   "cell_type": "code",
   "execution_count": null,
   "id": "1f8702d7",
   "metadata": {
    "papermill": {
     "duration": 0.013486,
     "end_time": "2025-08-08T12:32:17.012569",
     "exception": false,
     "start_time": "2025-08-08T12:32:16.999083",
     "status": "completed"
    },
    "tags": []
   },
   "outputs": [],
   "source": []
  },
  {
   "cell_type": "code",
   "execution_count": null,
   "id": "510e5952",
   "metadata": {
    "papermill": {
     "duration": 0.013738,
     "end_time": "2025-08-08T12:32:17.040106",
     "exception": false,
     "start_time": "2025-08-08T12:32:17.026368",
     "status": "completed"
    },
    "tags": []
   },
   "outputs": [],
   "source": []
  },
  {
   "cell_type": "code",
   "execution_count": null,
   "id": "c64bb38f",
   "metadata": {
    "papermill": {
     "duration": 0.014055,
     "end_time": "2025-08-08T12:32:17.068210",
     "exception": false,
     "start_time": "2025-08-08T12:32:17.054155",
     "status": "completed"
    },
    "tags": []
   },
   "outputs": [],
   "source": []
  },
  {
   "cell_type": "code",
   "execution_count": null,
   "id": "1e452857",
   "metadata": {
    "papermill": {
     "duration": 0.013854,
     "end_time": "2025-08-08T12:32:17.095939",
     "exception": false,
     "start_time": "2025-08-08T12:32:17.082085",
     "status": "completed"
    },
    "tags": []
   },
   "outputs": [],
   "source": []
  },
  {
   "cell_type": "code",
   "execution_count": null,
   "id": "690c74cb",
   "metadata": {
    "papermill": {
     "duration": 0.013678,
     "end_time": "2025-08-08T12:32:17.124458",
     "exception": false,
     "start_time": "2025-08-08T12:32:17.110780",
     "status": "completed"
    },
    "tags": []
   },
   "outputs": [],
   "source": []
  },
  {
   "cell_type": "code",
   "execution_count": null,
   "id": "5b5d97e7",
   "metadata": {
    "papermill": {
     "duration": 0.013428,
     "end_time": "2025-08-08T12:32:17.151546",
     "exception": false,
     "start_time": "2025-08-08T12:32:17.138118",
     "status": "completed"
    },
    "tags": []
   },
   "outputs": [],
   "source": []
  },
  {
   "cell_type": "code",
   "execution_count": null,
   "id": "045808df",
   "metadata": {
    "papermill": {
     "duration": 0.014274,
     "end_time": "2025-08-08T12:32:17.179341",
     "exception": false,
     "start_time": "2025-08-08T12:32:17.165067",
     "status": "completed"
    },
    "tags": []
   },
   "outputs": [],
   "source": []
  },
  {
   "cell_type": "code",
   "execution_count": null,
   "id": "7594a9e8",
   "metadata": {
    "papermill": {
     "duration": 0.01499,
     "end_time": "2025-08-08T12:32:17.208532",
     "exception": false,
     "start_time": "2025-08-08T12:32:17.193542",
     "status": "completed"
    },
    "tags": []
   },
   "outputs": [],
   "source": []
  },
  {
   "cell_type": "code",
   "execution_count": null,
   "id": "931f7005",
   "metadata": {
    "papermill": {
     "duration": 0.014738,
     "end_time": "2025-08-08T12:32:17.237969",
     "exception": false,
     "start_time": "2025-08-08T12:32:17.223231",
     "status": "completed"
    },
    "tags": []
   },
   "outputs": [],
   "source": []
  },
  {
   "cell_type": "code",
   "execution_count": null,
   "id": "2df276ef",
   "metadata": {
    "papermill": {
     "duration": 0.014277,
     "end_time": "2025-08-08T12:32:17.267496",
     "exception": false,
     "start_time": "2025-08-08T12:32:17.253219",
     "status": "completed"
    },
    "tags": []
   },
   "outputs": [],
   "source": []
  },
  {
   "cell_type": "code",
   "execution_count": null,
   "id": "476ff09a",
   "metadata": {
    "papermill": {
     "duration": 0.013838,
     "end_time": "2025-08-08T12:32:17.295211",
     "exception": false,
     "start_time": "2025-08-08T12:32:17.281373",
     "status": "completed"
    },
    "tags": []
   },
   "outputs": [],
   "source": []
  },
  {
   "cell_type": "code",
   "execution_count": null,
   "id": "22c22cd1",
   "metadata": {
    "papermill": {
     "duration": 0.013861,
     "end_time": "2025-08-08T12:32:17.323018",
     "exception": false,
     "start_time": "2025-08-08T12:32:17.309157",
     "status": "completed"
    },
    "tags": []
   },
   "outputs": [],
   "source": []
  },
  {
   "cell_type": "code",
   "execution_count": null,
   "id": "2a56b8bc",
   "metadata": {
    "papermill": {
     "duration": 0.014131,
     "end_time": "2025-08-08T12:32:17.351275",
     "exception": false,
     "start_time": "2025-08-08T12:32:17.337144",
     "status": "completed"
    },
    "tags": []
   },
   "outputs": [],
   "source": []
  },
  {
   "cell_type": "code",
   "execution_count": null,
   "id": "e9fcc5aa",
   "metadata": {
    "papermill": {
     "duration": 0.013934,
     "end_time": "2025-08-08T12:32:17.380265",
     "exception": false,
     "start_time": "2025-08-08T12:32:17.366331",
     "status": "completed"
    },
    "tags": []
   },
   "outputs": [],
   "source": []
  },
  {
   "cell_type": "code",
   "execution_count": null,
   "id": "f5c0871d",
   "metadata": {
    "papermill": {
     "duration": 0.01401,
     "end_time": "2025-08-08T12:32:17.408293",
     "exception": false,
     "start_time": "2025-08-08T12:32:17.394283",
     "status": "completed"
    },
    "tags": []
   },
   "outputs": [],
   "source": []
  },
  {
   "cell_type": "code",
   "execution_count": null,
   "id": "bbc81276",
   "metadata": {
    "papermill": {
     "duration": 0.014345,
     "end_time": "2025-08-08T12:32:17.436576",
     "exception": false,
     "start_time": "2025-08-08T12:32:17.422231",
     "status": "completed"
    },
    "tags": []
   },
   "outputs": [],
   "source": []
  },
  {
   "cell_type": "code",
   "execution_count": null,
   "id": "55ed04a7",
   "metadata": {
    "papermill": {
     "duration": 0.014146,
     "end_time": "2025-08-08T12:32:17.466026",
     "exception": false,
     "start_time": "2025-08-08T12:32:17.451880",
     "status": "completed"
    },
    "tags": []
   },
   "outputs": [],
   "source": []
  },
  {
   "cell_type": "code",
   "execution_count": null,
   "id": "8095d5bc",
   "metadata": {
    "papermill": {
     "duration": 0.014692,
     "end_time": "2025-08-08T12:32:17.494929",
     "exception": false,
     "start_time": "2025-08-08T12:32:17.480237",
     "status": "completed"
    },
    "tags": []
   },
   "outputs": [],
   "source": []
  },
  {
   "cell_type": "code",
   "execution_count": null,
   "id": "32e2d240",
   "metadata": {
    "papermill": {
     "duration": 0.014048,
     "end_time": "2025-08-08T12:32:17.523126",
     "exception": false,
     "start_time": "2025-08-08T12:32:17.509078",
     "status": "completed"
    },
    "tags": []
   },
   "outputs": [],
   "source": []
  },
  {
   "cell_type": "code",
   "execution_count": null,
   "id": "c267afb4",
   "metadata": {
    "papermill": {
     "duration": 0.013645,
     "end_time": "2025-08-08T12:32:17.550929",
     "exception": false,
     "start_time": "2025-08-08T12:32:17.537284",
     "status": "completed"
    },
    "tags": []
   },
   "outputs": [],
   "source": []
  },
  {
   "cell_type": "code",
   "execution_count": null,
   "id": "21f5f454",
   "metadata": {
    "papermill": {
     "duration": 0.014536,
     "end_time": "2025-08-08T12:32:17.580082",
     "exception": false,
     "start_time": "2025-08-08T12:32:17.565546",
     "status": "completed"
    },
    "tags": []
   },
   "outputs": [],
   "source": []
  },
  {
   "cell_type": "code",
   "execution_count": null,
   "id": "64ac701d",
   "metadata": {
    "papermill": {
     "duration": 0.013676,
     "end_time": "2025-08-08T12:32:17.608666",
     "exception": false,
     "start_time": "2025-08-08T12:32:17.594990",
     "status": "completed"
    },
    "tags": []
   },
   "outputs": [],
   "source": []
  },
  {
   "cell_type": "code",
   "execution_count": null,
   "id": "6f741c7d",
   "metadata": {
    "papermill": {
     "duration": 0.013502,
     "end_time": "2025-08-08T12:32:17.636045",
     "exception": false,
     "start_time": "2025-08-08T12:32:17.622543",
     "status": "completed"
    },
    "tags": []
   },
   "outputs": [],
   "source": []
  },
  {
   "cell_type": "code",
   "execution_count": null,
   "id": "842172fb",
   "metadata": {
    "papermill": {
     "duration": 0.013662,
     "end_time": "2025-08-08T12:32:17.663660",
     "exception": false,
     "start_time": "2025-08-08T12:32:17.649998",
     "status": "completed"
    },
    "tags": []
   },
   "outputs": [],
   "source": []
  },
  {
   "cell_type": "code",
   "execution_count": null,
   "id": "f0f28440",
   "metadata": {
    "papermill": {
     "duration": 0.01372,
     "end_time": "2025-08-08T12:32:17.692185",
     "exception": false,
     "start_time": "2025-08-08T12:32:17.678465",
     "status": "completed"
    },
    "tags": []
   },
   "outputs": [],
   "source": []
  },
  {
   "cell_type": "code",
   "execution_count": null,
   "id": "18d4e071",
   "metadata": {
    "papermill": {
     "duration": 0.014023,
     "end_time": "2025-08-08T12:32:17.721040",
     "exception": false,
     "start_time": "2025-08-08T12:32:17.707017",
     "status": "completed"
    },
    "tags": []
   },
   "outputs": [],
   "source": []
  },
  {
   "cell_type": "code",
   "execution_count": null,
   "id": "2c77fe71",
   "metadata": {
    "papermill": {
     "duration": 0.013795,
     "end_time": "2025-08-08T12:32:17.749169",
     "exception": false,
     "start_time": "2025-08-08T12:32:17.735374",
     "status": "completed"
    },
    "tags": []
   },
   "outputs": [],
   "source": []
  },
  {
   "cell_type": "code",
   "execution_count": null,
   "id": "02830bcc",
   "metadata": {
    "papermill": {
     "duration": 0.013658,
     "end_time": "2025-08-08T12:32:17.776666",
     "exception": false,
     "start_time": "2025-08-08T12:32:17.763008",
     "status": "completed"
    },
    "tags": []
   },
   "outputs": [],
   "source": []
  }
 ],
 "metadata": {
  "kaggle": {
   "accelerator": "none",
   "dataSources": [
    {
     "datasetId": 7901910,
     "sourceId": 12518445,
     "sourceType": "datasetVersion"
    }
   ],
   "dockerImageVersionId": 31089,
   "isGpuEnabled": false,
   "isInternetEnabled": true,
   "language": "python",
   "sourceType": "notebook"
  },
  "kernelspec": {
   "display_name": "Python 3",
   "language": "python",
   "name": "python3"
  },
  "language_info": {
   "codemirror_mode": {
    "name": "ipython",
    "version": 3
   },
   "file_extension": ".py",
   "mimetype": "text/x-python",
   "name": "python",
   "nbconvert_exporter": "python",
   "pygments_lexer": "ipython3",
   "version": "3.11.13"
  },
  "papermill": {
   "default_parameters": {},
   "duration": 13.11181,
   "end_time": "2025-08-08T12:32:18.411234",
   "environment_variables": {},
   "exception": null,
   "input_path": "__notebook__.ipynb",
   "output_path": "__notebook__.ipynb",
   "parameters": {},
   "start_time": "2025-08-08T12:32:05.299424",
   "version": "2.6.0"
  }
 },
 "nbformat": 4,
 "nbformat_minor": 5
}
